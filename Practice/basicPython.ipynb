{
 "cells": [
  {
   "cell_type": "code",
   "execution_count": null,
   "id": "cf14872f-26e4-4bea-80cd-7a4abb961f59",
   "metadata": {},
   "outputs": [],
   "source": []
  },
  {
   "cell_type": "code",
   "execution_count": 5,
   "id": "6fea6d5c-4de2-4b52-b9af-cdaa09461378",
   "metadata": {},
   "outputs": [
    {
     "name": "stdout",
     "output_type": "stream",
     "text": [
      "Hi my name is  jawad  and my age is  69\n"
     ]
    },
    {
     "data": {
      "text/plain": [
       "'homo sapiens'"
      ]
     },
     "execution_count": 5,
     "metadata": {},
     "output_type": "execute_result"
    }
   ],
   "source": [
    "class person:\n",
    "    species='homo sapiens' #common attribute shared by all the objects\n",
    "    def __init__(self,name,age):\n",
    "        self.name=name\n",
    "        self.age=age\n",
    "    def introduce(self):\n",
    "        print('Hi my name is ',self.name,' and my age is ',self.age)\n",
    "\n",
    "p1=person('jawad','69')\n",
    "p1.introduce()\n",
    "p1.species"
   ]
  },
  {
   "cell_type": "code",
   "execution_count": null,
   "id": "603bdc7f-9541-4389-8b32-59bbc4c9b507",
   "metadata": {},
   "outputs": [],
   "source": []
  },
  {
   "cell_type": "code",
   "execution_count": 7,
   "id": "e57e5ff3-5f0e-4ed4-859f-c6e4d7ae5d3d",
   "metadata": {},
   "outputs": [
    {
     "name": "stdout",
     "output_type": "stream",
     "text": [
      "2400\n"
     ]
    }
   ],
   "source": [
    "class bank:\n",
    "    def __init__(self,owner,balance=0):\n",
    "        self.owner=owner\n",
    "        self.__balance=balance\n",
    "    def deposit(self,balance):\n",
    "        self.__balance+=balance\n",
    "    def get_balance(self):\n",
    "        return self.__balance\n",
    "acc=bank('james',2000)\n",
    "acc.deposit(400)\n",
    "print(acc.get_balance())"
   ]
  },
  {
   "cell_type": "code",
   "execution_count": null,
   "id": "236ce633-a41c-4b6c-be8f-dde9adcdf3a8",
   "metadata": {},
   "outputs": [],
   "source": []
  },
  {
   "cell_type": "code",
   "execution_count": 11,
   "id": "50bb69d4-7788-4506-b977-9831c99c5507",
   "metadata": {},
   "outputs": [
    {
     "name": "stdout",
     "output_type": "stream",
     "text": [
      "numu is barking\n",
      "mulu is meowing\n"
     ]
    }
   ],
   "source": [
    "class animal:\n",
    "    def __init__(self,name):\n",
    "        self.name=name\n",
    "    def makesound(self):\n",
    "        return f'{self.name} makes sound'\n",
    "class dog(animal):\n",
    "    def makesound(self):\n",
    "        return f'{self.name} is barking'\n",
    "\n",
    "class cat(animal):\n",
    "    def makesound(self):\n",
    "        return f'{self.name} is meowing'\n",
    "\n",
    "animals=[dog('numu'),cat('mulu')]\n",
    "\n",
    "for i in animals:\n",
    "    print(i.makesound())\n",
    "\n",
    "# d=dog('numu')\n",
    "# print(d.makesound())"
   ]
  },
  {
   "cell_type": "code",
   "execution_count": null,
   "id": "9c92d712-e599-407e-adf3-3a3780fe709f",
   "metadata": {},
   "outputs": [],
   "source": []
  },
  {
   "cell_type": "code",
   "execution_count": 13,
   "id": "5e4789db-1932-40e3-92e0-0e60994b748b",
   "metadata": {},
   "outputs": [
    {
     "name": "stdout",
     "output_type": "stream",
     "text": [
      "6\n"
     ]
    }
   ],
   "source": [
    "from abc import ABC,abstractmethod\n",
    "\n",
    "class shape:\n",
    "    @abstractmethod\n",
    "\n",
    "    def area(self):\n",
    "        pass\n",
    "\n",
    "class rectangle(shape):\n",
    "    def __init__(self,l,b):\n",
    "        self.l,self.b=l,b\n",
    "    def area(self):\n",
    "        return self.l*self.b\n",
    "\n",
    "rec=rectangle(2,3)\n",
    "print(rec.area())\n",
    "\n",
    "\n",
    "        "
   ]
  },
  {
   "cell_type": "code",
   "execution_count": null,
   "id": "4d0cb208-0779-4f39-adf4-69a63693b9df",
   "metadata": {},
   "outputs": [],
   "source": []
  },
  {
   "cell_type": "code",
   "execution_count": 15,
   "id": "8e3715d8-1baf-436c-b508-73a6ec59eb36",
   "metadata": {},
   "outputs": [
    {
     "name": "stdout",
     "output_type": "stream",
     "text": [
      "(4,6)\n"
     ]
    }
   ],
   "source": [
    "class Vector:\n",
    "    def __init__(self,x,y):\n",
    "        self.x=x\n",
    "        self.y=y\n",
    "    def __add__(self,other):\n",
    "        return Vector(self.x+other.x,self.y+other.y)\n",
    "    def __str__(self):\n",
    "        return f'({self.x},{self.y})'\n",
    "\n",
    "a,b=Vector(2,3),Vector(2,3)\n",
    "print(a+b)"
   ]
  },
  {
   "cell_type": "code",
   "execution_count": null,
   "id": "60c6a2b4-d4e5-414a-9658-9d7ae0fab2ce",
   "metadata": {},
   "outputs": [],
   "source": []
  },
  {
   "cell_type": "code",
   "execution_count": 25,
   "id": "baf93a15-128e-4e36-a08c-85f49e6955bd",
   "metadata": {},
   "outputs": [
    {
     "name": "stdout",
     "output_type": "stream",
     "text": [
      "playing driving cooking\n"
     ]
    },
    {
     "data": {
      "text/plain": [
       "[__main__.child, __main__.father, __main__.mother, object]"
      ]
     },
     "execution_count": 25,
     "metadata": {},
     "output_type": "execute_result"
    }
   ],
   "source": [
    "class father:\n",
    "    def skill(self):\n",
    "        return 'driving'\n",
    "class mother:\n",
    "    def skill(self):\n",
    "        return 'cooking'\n",
    "class child(father,mother):\n",
    "    def skill(self):\n",
    "        return 'playing ' + super().skill() + ' ' + mother.skill(self)\n",
    "\n",
    "c=child()\n",
    "print(c.skill())\n",
    "child.mro()"
   ]
  },
  {
   "cell_type": "code",
   "execution_count": null,
   "id": "54100bc5-43fe-4296-b58f-b67fd61b1984",
   "metadata": {},
   "outputs": [],
   "source": []
  },
  {
   "cell_type": "code",
   "execution_count": 27,
   "id": "b1ecf20b-fc4d-430b-b71e-bfaeb4728cf0",
   "metadata": {},
   "outputs": [
    {
     "name": "stdout",
     "output_type": "stream",
     "text": [
      "engine started\n"
     ]
    }
   ],
   "source": [
    "class engine:\n",
    "    def start(self):\n",
    "        return 'engine started'\n",
    "\n",
    "class car:\n",
    "    def __init__(self):\n",
    "        self.engine=engine()\n",
    "    def drive(self):\n",
    "        return self.engine.start()\n",
    "\n",
    "c=car()\n",
    "print(c.drive())"
   ]
  },
  {
   "cell_type": "code",
   "execution_count": null,
   "id": "a16af643-1efa-434c-b93d-c7e6d161034e",
   "metadata": {},
   "outputs": [],
   "source": []
  },
  {
   "cell_type": "code",
   "execution_count": 29,
   "id": "16b3b041-aa2b-42bf-a36b-3a41eca17c18",
   "metadata": {},
   "outputs": [
    {
     "name": "stdout",
     "output_type": "stream",
     "text": [
      "purana\n",
      "nawab\n"
     ]
    }
   ],
   "source": [
    "class employee:\n",
    "    raise_pct=1.05\n",
    "    def __init__(self,name,salary):\n",
    "        self.name,self.salary=name,salary\n",
    "    def apply_raise(self):\n",
    "        self.salary*=self.raise_pct\n",
    "class developer(employee):\n",
    "    raise_pct=1.10\n",
    "    def __init__(self,name,salary,lang):\n",
    "        super().__init__(name,salary)\n",
    "        self.lang=lang\n",
    "class manager(employee):\n",
    "    def __init__(self,name,salary,emp=None):\n",
    "        super().__init__(name,salary)\n",
    "        self.emps=emp if emp else []\n",
    "    def addEmp(self,emp):\n",
    "        self.emps.append(emp)\n",
    "dev=developer('purana',30000,'python')\n",
    "mgr=manager('bob',40000,[dev])\n",
    "mgr.addEmp(developer('nawab',25000,'c++'))\n",
    "print(mgr.emps[0].name)\n",
    "print(mgr.emps[1].name)"
   ]
  },
  {
   "cell_type": "code",
   "execution_count": null,
   "id": "75250fd6-6ff2-4004-ad88-2d34a1ad4800",
   "metadata": {},
   "outputs": [],
   "source": []
  },
  {
   "cell_type": "code",
   "execution_count": 37,
   "id": "fb8f80c6-590d-4d7e-8876-8dedec4bc6a4",
   "metadata": {},
   "outputs": [
    {
     "name": "stdout",
     "output_type": "stream",
     "text": [
      "Add =  6\n",
      "print overloaded\n"
     ]
    }
   ],
   "source": [
    "class math:\n",
    "    def __init__(self,a,b,c):\n",
    "        self.__a=a\n",
    "        self.__b=b\n",
    "        self._c=c\n",
    "    def add(self):\n",
    "        c=self.__a+self.__b+self._c\n",
    "        print('Add = ',c)\n",
    "class vector(math):\n",
    "    def __init__(self,a,b,c):\n",
    "        super().__init__(a,b,c)\n",
    "    def add(self):\n",
    "        super().add()\n",
    "    def __str__(self):\n",
    "        return \"print overloaded\"\n",
    "\n",
    "v=vector(1,2,3)\n",
    "v.add()\n",
    "print(v)\n",
    "    \n",
    "\n"
   ]
  },
  {
   "cell_type": "code",
   "execution_count": null,
   "id": "2a1c63b7-55c7-47b0-94c5-f1e65e912880",
   "metadata": {},
   "outputs": [],
   "source": []
  },
  {
   "cell_type": "code",
   "execution_count": null,
   "id": "a04e3d1b-5aac-4630-910f-921157c093d0",
   "metadata": {},
   "outputs": [],
   "source": []
  }
 ],
 "metadata": {
  "kernelspec": {
   "display_name": "Python 3 (ipykernel)",
   "language": "python",
   "name": "python3"
  },
  "language_info": {
   "codemirror_mode": {
    "name": "ipython",
    "version": 3
   },
   "file_extension": ".py",
   "mimetype": "text/x-python",
   "name": "python",
   "nbconvert_exporter": "python",
   "pygments_lexer": "ipython3",
   "version": "3.12.4"
  }
 },
 "nbformat": 4,
 "nbformat_minor": 5
}
