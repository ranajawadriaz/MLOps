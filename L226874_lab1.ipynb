{
 "cells": [
  {
   "cell_type": "code",
   "execution_count": 1,
   "id": "3841c75b",
   "metadata": {},
   "outputs": [],
   "source": [
    "#task1"
   ]
  },
  {
   "cell_type": "code",
   "execution_count": 1,
   "id": "561cae49",
   "metadata": {},
   "outputs": [
    {
     "name": "stdout",
     "output_type": "stream",
     "text": [
      "Counter({'python': 3, 'hello': 2, 'is': 2, 'world': 1, 'great': 1, 'and': 1, 'fun': 1})\n"
     ]
    }
   ],
   "source": [
    "from collections import Counter\n",
    "\n",
    "def word_freq(txt):\n",
    "    final_txt=clean(txt)\n",
    "    listi=final_txt.split()\n",
    "    dicti=Counter(listi)\n",
    "    return dicti\n",
    "    \n",
    "    \n",
    "        \n",
    "def clean(txt):\n",
    "    clean_string=\"\"\n",
    "    for i in range(len(txt)):\n",
    "        if ord(txt[i])>=65 and ord(txt[i])<=90:\n",
    "            clean_string+=txt[i].lower()\n",
    "        elif (ord(txt[i])>=97 and ord(txt[i])<=122) or ord(txt[i])==32:\n",
    "            clean_string+=txt[i]\n",
    "        else:\n",
    "            continue\n",
    "            \n",
    "        \n",
    "            \n",
    "        \n",
    "    \n",
    "    return clean_string\n",
    "    \n",
    "txt='Hello, world! Hello Python. Python is great, and Python is fun.!'    \n",
    "print(word_freq(txt))\n",
    "    "
   ]
  },
  {
   "cell_type": "code",
   "execution_count": 3,
   "id": "6c4349cd",
   "metadata": {},
   "outputs": [],
   "source": [
    "#task2"
   ]
  },
  {
   "cell_type": "code",
   "execution_count": 21,
   "id": "79a55958",
   "metadata": {},
   "outputs": [
    {
     "name": "stdout",
     "output_type": "stream",
     "text": [
      "[12, 15, 18]\n"
     ]
    }
   ],
   "source": [
    "\n",
    "def moortix(mati,m,n,check):\n",
    "    if check==0:\n",
    "        sumR=[]\n",
    "        for i in range(m):\n",
    "            sumR.append(sum(mati[i]))\n",
    "        return sumR\n",
    "    elif check==1:\n",
    "        sumC=[]\n",
    "        for i in range(n):\n",
    "            total=0\n",
    "            for j in range(m):\n",
    "                total+=mati[j][i]\n",
    "            sumC.append(total)\n",
    "        return sumC\n",
    "    elif check==2:\n",
    "        sumD=[0,0]\n",
    "        \n",
    "        for i in range(m):\n",
    "            sumD[0]+=mati[i][i]\n",
    "        r=0\n",
    "        c=n-1\n",
    "        for i in range(m):\n",
    "            sumD[1]+=mati[r][c]\n",
    "            r+=1\n",
    "            c-=1\n",
    "        return sumD\n",
    "            \n",
    "            \n",
    "                \n",
    "        \n",
    "        \n",
    "\n",
    "\n",
    "mati=[\n",
    "    [1,2,3],\n",
    "     [4,5,6],\n",
    "     [7,8,9]\n",
    "     ]\n",
    "m=3\n",
    "n=3\n",
    "check=1\n",
    "\n",
    "print(moortix(mati,m,n,check))\n"
   ]
  },
  {
   "cell_type": "code",
   "execution_count": 31,
   "id": "f7fab18c-ab4a-445d-a45e-a24036f753f9",
   "metadata": {},
   "outputs": [
    {
     "name": "stdin",
     "output_type": "stream",
     "text": [
      "Enter your DOB separated by / only and format should be YYYY/MM/DD 2004/03/04\n"
     ]
    },
    {
     "name": "stdout",
     "output_type": "stream",
     "text": [
      "your age =  21  years,  5  months,  17  days\n"
     ]
    }
   ],
   "source": [
    "#task3\n",
    "\n",
    "import datetime\n",
    "\n",
    "datee=str(datetime.date.today()).split('-')\n",
    "# print(datee)\n",
    "\n",
    "bingo=input('Enter your DOB separated by / only and format should be YYYY/MM/DD').split('/')\n",
    "years=int(datee[0])-int(bingo[0])\n",
    "months=int(datee[1])-int(bingo[1])\n",
    "days=int(datee[2])-int(bingo[2])\n",
    "\n",
    "print('your age = ',years,' years, ',months,' months, ',days,' days')"
   ]
  },
  {
   "cell_type": "code",
   "execution_count": null,
   "id": "6c510d54-0097-4d9d-add1-4d33b5bc666e",
   "metadata": {},
   "outputs": [],
   "source": []
  }
 ],
 "metadata": {
  "kernelspec": {
   "display_name": "Python 3 (ipykernel)",
   "language": "python",
   "name": "python3"
  },
  "language_info": {
   "codemirror_mode": {
    "name": "ipython",
    "version": 3
   },
   "file_extension": ".py",
   "mimetype": "text/x-python",
   "name": "python",
   "nbconvert_exporter": "python",
   "pygments_lexer": "ipython3",
   "version": "3.12.4"
  }
 },
 "nbformat": 4,
 "nbformat_minor": 5
}
